{
 "cells": [
  {
   "cell_type": "code",
   "execution_count": 195,
   "metadata": {},
   "outputs": [],
   "source": [
    "import numpy as np\n",
    "import numpy.matlib\n",
    "import seaborn as sns\n",
    "import matplotlib.pyplot as plt #for plotting functions\n",
    "from scipy.special import erfc #erfc/Q function\n",
    "import math\n",
    "from scipy.signal import butter, lfilter\n",
    "from scipy.signal import freqs\n"
   ]
  },
  {
   "cell_type": "code",
   "execution_count": 196,
   "metadata": {},
   "outputs": [],
   "source": [
    "def sym_gen(num_sym, M):\n",
    "    return np.random.randint(low=0, high = M, size=num_sym)"
   ]
  },
  {
   "cell_type": "code",
   "execution_count": 197,
   "metadata": {},
   "outputs": [],
   "source": [
    "def base_wave(samps_per_sym, f, size, type_wave = 'cos'):\n",
    "    if samps_per_sym/2 > f:\n",
    "        t = np.arange(0,size,1/samps_per_sym)\n",
    "        if type_wave == 'cos':\n",
    "            return np.cos(2*np.pi*f*t)\n",
    "        else:\n",
    "            return np.sin(2*np.pi*f*t)\n",
    "    else:\n",
    "        return print('[ERROR] Smps/2 > f')"
   ]
  },
  {
   "cell_type": "markdown",
   "metadata": {},
   "source": [
    "## Ruido\n",
    "Temos que \\\\[\\gamma = SNR = E_b/N_0\\\\] ou \\\\[\\gamma = SNR = E_s/N_0\\\\]\n",
    "\n",
    "Temos também que \\\\[P = L \\times \\frac{1}{N} \\sum_{i=0}^{N-1}|s_i|^2\\\\]\n",
    "\n",
    "Portanto,\n",
    "\n",
    "\\\\[N_0 = P/\\gamma\\\\]"
   ]
  },
  {
   "cell_type": "code",
   "execution_count": 198,
   "metadata": {},
   "outputs": [],
   "source": [
    "def channel_awgn(sig, EbN0dB, samps_per_sym):\n",
    "    gamma = 10**(EbN0dB/10)\n",
    "    P=samps_per_sym*sum(abs(sig)**2)/len(sig) \n",
    "    N0=P/gamma \n",
    "    \n",
    "    if np.isrealobj(sig):\n",
    "        noise = np.sqrt(N0/2)*np.random.standard_normal(sig.shape)\n",
    "    else:\n",
    "        noise = np.sqrt(N0/2)*(np.random.standard_normal(sig.shape)+1j*np.random.standard_normal(sig.shape))\n",
    "\n",
    "    rx_sig = sig + noise\n",
    "    return rx_sig\n",
    "    "
   ]
  },
  {
   "cell_type": "code",
   "execution_count": 199,
   "metadata": {},
   "outputs": [],
   "source": [
    "def Q(x):\n",
    "    return 0.5*erfc(x/np.sqrt(2))"
   ]
  },
  {
   "cell_type": "code",
   "execution_count": 200,
   "metadata": {},
   "outputs": [],
   "source": [
    "def mpsk_mod(sym_arr, samps_per_sym, f, M):\n",
    "    if math.log(M,2).is_integer():\n",
    "        m = np.arange(0,M)\n",
    "        I = 1/np.sqrt(2)*np.cos(m/M*2*np.pi)\n",
    "        Q = 1/np.sqrt(2)*np.sin(m/M*2*np.pi)\n",
    "        constellation = I + 1j*Q\n",
    "        constellation2 = np.vstack((constellation, m))\n",
    "        \n",
    "        remap_sym_cons = constellation[sym_arr]\n",
    "        remap_sym = np.repeat(remap_sym_cons,samps_per_sym)\n",
    "        \n",
    "        \n",
    "        imag_sig = np.sin(2*np.pi*f*np.linspace(0,len(remap_sym)/samps_per_sym, len(remap_sym)))*(remap_sym.imag)\n",
    "        real_sig = np.cos(2*np.pi*f*np.linspace(0,len(remap_sym)/samps_per_sym, len(remap_sym)))*remap_sym.real\n",
    "        \n",
    "        sig = real_sig+imag_sig\n",
    "        \n",
    "    else:\n",
    "        return print('[ERROR] M-PSK is not possible')\n",
    "\n",
    "    return sig, constellation2"
   ]
  },
  {
   "cell_type": "code",
   "execution_count": 207,
   "metadata": {},
   "outputs": [],
   "source": [
    "def butter_lowpass(cutoff, fs, order=5):\n",
    "    nyq = 0.5 * fs\n",
    "    normal_cutoff = cutoff / nyq\n",
    "    b, a = butter(order, cutoff, btype='low', fs=fs, analog=False)\n",
    "    return b, a\n",
    "\n",
    "def butter_lowpass_filter(data, cutoff, fs, order=5):\n",
    "    b, a = butter_lowpass(cutoff, fs, order=order)\n",
    "    y = lfilter(b, a, data)\n",
    "    return y"
   ]
  },
  {
   "cell_type": "code",
   "execution_count": 218,
   "metadata": {},
   "outputs": [],
   "source": [
    "def demod_ncoh_psk(rx, samps_per_sym, f, nSym, order, fcut):\n",
    "    carrier_cos = base_wave(samps_per_sym, f, nSym)\n",
    "    bits_rx_cos = rx*carrier_cos\n",
    "\n",
    "    carrier_sin = base_wave(samps_per_sym, f, nSym, 'sin')\n",
    "    bits_rx_sin = rx*carrier_sin\n",
    "\n",
    "    Rx_cos = butter_lowpass_filter(bits_rx_cos, fcut, samps_per_sym, order)\n",
    "    sig_rx_I = 2*Rx_cos[np.arange(samps_per_sym/2,len(Rx_cos),np.round((samps_per_sym))).astype(int)]\n",
    "    \n",
    "    \n",
    "    Rx_sin = butter_lowpass_filter(bits_rx_sin, fcut, samps_per_sym, order)\n",
    "    sig_rx_Q = 2*Rx_sin[np.arange(samps_per_sym/2,len(Rx_sin),np.round((samps_per_sym))).astype(int)]\n",
    "    \n",
    "    sig_rx = sig_rx_I+1j*sig_rx_Q\n",
    "    \n",
    "    return sig_rx"
   ]
  },
  {
   "cell_type": "code",
   "execution_count": 219,
   "metadata": {},
   "outputs": [],
   "source": [
    "def demod_coh_psk(rx, samps_per_sym, f, nSym):\n",
    "    carrier_cos = base_wave(samps_per_sym, f, 1)\n",
    "    carrier_sin = base_wave(samps_per_sym, f, 1, 'sin')\n",
    "    \n",
    "    sig_rx = np.array([])\n",
    "    \n",
    "    for array_sig in np.arange(0, len(rx), samps_per_sym):\n",
    "        sig_rx_I = 2*np.trapz(rx[array_sig:array_sig+samps_per_sym]*carrier_cos, dx = 1/samps_per_sym)\n",
    "        sig_rx_Q = 2*np.trapz(rx[array_sig:array_sig+samps_per_sym]*carrier_sin, dx = 1/samps_per_sym)\n",
    "        rec = sig_rx_I+1j*sig_rx_Q\n",
    "        sig_rx = np.append(sig_rx, rec)\n",
    "\n",
    "    return sig_rx"
   ]
  },
  {
   "cell_type": "code",
   "execution_count": 220,
   "metadata": {},
   "outputs": [],
   "source": [
    "def decision(constellation, rx):\n",
    "    rx_sym = np.array([])\n",
    "    for symb in rx:\n",
    "        dif = np.absolute(symb-constellation[0])\n",
    "        smallest_difference_index = dif.argmin()\n",
    "        rx_symb = constellation[1][smallest_difference_index]\n",
    "        rx_sym = np.append(rx_sym, rx_symb)\n",
    "        \n",
    "    return rx_sym.real\n",
    "\n",
    "        "
   ]
  },
  {
   "cell_type": "code",
   "execution_count": null,
   "metadata": {},
   "outputs": [],
   "source": [
    "nSym = 10000\n",
    "samps_per_sym = 10000\n",
    "f = 10\n",
    "M=8\n",
    "syns = sym_gen(nSym,M)\n",
    "a, cons = mpsk_mod(syns, samps_per_sym,f, M)\n",
    "rx = channel_awgn(a, 20, samps_per_sym)"
   ]
  },
  {
   "cell_type": "code",
   "execution_count": null,
   "metadata": {},
   "outputs": [],
   "source": [
    "rec = demod_ncoh_psk(rx, samps_per_sym, f, nSym, 9, f)\n",
    "rec_coh = demod_coh_psk(rx, samps_per_sym, f, nSym)"
   ]
  },
  {
   "cell_type": "code",
   "execution_count": null,
   "metadata": {},
   "outputs": [],
   "source": [
    "plt.scatter(rec.real, rec.imag)\n",
    "plt.scatter(rec_coh.real, rec_coh.imag)\n",
    "\n",
    "plt.scatter(cons[0].real, cons[0].imag)\n"
   ]
  },
  {
   "cell_type": "code",
   "execution_count": 227,
   "metadata": {},
   "outputs": [
    {
     "data": {
      "image/png": "[encoded data removed]",
      "text/plain": [
       "<Figure size 432x288 with 1 Axes>"
      ]
     },
     "metadata": {
      "needs_background": "light"
     },
     "output_type": "display_data"
    }
   ],
   "source": [
    "Ms = [2,4,8,16]\n",
    "colors = {2: 'b', 4: 'r', 8: 'g', 16 : 'black'}\n",
    "SNR_inicial = -4\n",
    "SNR_final = -2\n",
    "EbN0dBs = np.arange(start=SNR_inicial,stop = SNR_final, step = 2) # Eb/N0 range in dB for simulation\n",
    "EbN0dBs2 = np.arange(start=SNR_inicial,stop = SNR_final, step = 0.1)\n",
    "\n",
    "for M in Ms:\n",
    "    nSym = 1000\n",
    "    samps_per_sym = 1000\n",
    "    f = 10\n",
    "    syns = sym_gen(nSym,M)\n",
    "    a, cons = mpsk_mod(syns, samps_per_sym,f, M)\n",
    "\n",
    "    \n",
    "    BER_sim_coh = np.zeros(len(EbN0dBs)) # simulated Bit error rates\n",
    "    BER_sim_ncoh = np.zeros(len(EbN0dBs)) # simulated Bit error rates\n",
    "    \n",
    "\n",
    "    for j,EbN0dB in enumerate(EbN0dBs):\n",
    "        r = channel_awgn(a, EbN0dB, samps_per_sym)\n",
    "\n",
    "        rec_coh = demod_coh_psk(r, samps_per_sym, f, nSym)\n",
    "        rec_ncoh = demod_ncoh_psk(r, samps_per_sym, f, nSym, 10, f)\n",
    "        BER_sim_coh[j] = np.sum(decision(cons, rec_coh) != syns)/nSym #calculate BER\n",
    "        BER_sim_ncoh[j] = np.sum(decision(cons, rec_ncoh) != syns)/nSym #calculate BER\n",
    "\n",
    "\n",
    "    BER_theory = 2*Q(np.sin(np.pi/M)*np.sqrt(10**(EbN0dBs2/10)*2))\n",
    "\n",
    "    plt.semilogy(EbN0dBs,BER_sim_coh,color=colors[M],marker='o',linestyle='')\n",
    "    plt.semilogy(EbN0dBs,BER_sim_ncoh,color=colors[M],marker='x',linestyle='')\n",
    "    plt.semilogy(EbN0dBs2,BER_theory,color=colors[M], marker='',linestyle='-',label=str(M)+'-PSK')\n",
    "    plt.xlim(-5,24);\n",
    "    plt.ylim(1e-5,1)\n",
    "    plt.grid(True);\n",
    "    plt.legend()\n"
   ]
  },
  {
   "cell_type": "code",
   "execution_count": 228,
   "metadata": {},
   "outputs": [
    {
     "data": {
      "image/png": "[encoded data removed]",
      "text/plain": [
       "<Figure size 432x576 with 1 Axes>"
      ]
     },
     "metadata": {
      "needs_background": "light"
     },
     "output_type": "display_data"
    }
   ],
   "source": [
    "from matplotlib.ticker import (MultipleLocator, FormatStrFormatter,\n",
    "                               AutoMinorLocator)\n",
    "\n",
    "\n",
    "fig, ax = plt.subplots(figsize=(6,8))\n",
    "for M in Ms:\n",
    "\n",
    "    Pm = 2*Q(np.sqrt(2*math.log(M,2)*EbN0Lin)*np.sin(np.pi/M))\n",
    "    ax.semilogy(EsN0dBs, Pm, label = str(M))\n",
    "    ax.set_ylim([float(1e-5), float(1)])\n",
    "    ax.set_xlim([-5, 25])\n",
    "    ax.xaxis.grid(True, which='minor')\n",
    "    \n",
    "    ax.xaxis.set_major_locator(MultipleLocator(2))\n",
    "    ax.xaxis.set_major_formatter(FormatStrFormatter('%d'))\n",
    "\n",
    "    ax.legend()"
   ]
  },
  {
   "cell_type": "code",
   "execution_count": 69,
   "metadata": {},
   "outputs": [
    {
     "data": {
      "text/plain": [
       "15.154262241479262"
      ]
     },
     "execution_count": 69,
     "metadata": {},
     "output_type": "execute_result"
    }
   ],
   "source": [
    "2*Q(np.sqrt(2*math.log(4,2)*EbN0Lin)*np.sin(np.pi/4))"
   ]
  },
  {
   "cell_type": "code",
   "execution_count": 143,
   "metadata": {},
   "outputs": [],
   "source": [
    "colors = {2: 'b', 4: 'r', 8: 'g', 16 : 'g'}\n"
   ]
  },
  {
   "cell_type": "code",
   "execution_count": 146,
   "metadata": {},
   "outputs": [
    {
     "data": {
      "text/plain": [
       "'g'"
      ]
     },
     "execution_count": 146,
     "metadata": {},
     "output_type": "execute_result"
    }
   ],
   "source": []
  },
  {
   "cell_type": "code",
   "execution_count": null,
   "metadata": {},
   "outputs": [],
   "source": []
  }
 ],
 "metadata": {
  "kernelspec": {
   "display_name": "Python 3",
   "language": "python",
   "name": "python3"
  },
  "language_info": {
   "codemirror_mode": {
    "name": "ipython",
    "version": 3
   },
   "file_extension": ".py",
   "mimetype": "text/x-python",
   "name": "python",
   "nbconvert_exporter": "python",
   "pygments_lexer": "ipython3",
   "version": "3.8.6"
  }
 },
 "nbformat": 4,
 "nbformat_minor": 4
}
