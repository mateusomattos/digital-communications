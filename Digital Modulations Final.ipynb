{
 "cells": [
  {
   "cell_type": "code",
   "execution_count": 1,
   "metadata": {},
   "outputs": [],
   "source": [
    "import numpy as np\n",
    "import numpy.matlib\n",
    "import seaborn as sns\n",
    "import matplotlib.pyplot as plt #for plotting functions\n",
    "from scipy.special import erfc #erfc/Q function\n",
    "import math\n",
    "from scipy.signal import butter, lfilter\n",
    "from scipy.signal import freqs\n",
    "from IPython.display import clear_output\n",
    "from scipy import signal\n",
    "import commpy"
   ]
  },
  {
   "cell_type": "code",
   "execution_count": 2,
   "metadata": {},
   "outputs": [],
   "source": [
    "def sym_gen(num_sym, M):\n",
    "    return np.random.randint(low=0, high = M, size=num_sym)"
   ]
  },
  {
   "cell_type": "code",
   "execution_count": 3,
   "metadata": {},
   "outputs": [],
   "source": [
    "def base_wave(samps_per_sym, f, size, type_wave = 'cos', phase = 0):\n",
    "    if samps_per_sym/2 > f:\n",
    "        t = np.arange(0,size,1/samps_per_sym)\n",
    "        if type_wave == 'cos':\n",
    "            return np.cos(2*np.pi*f*t + phase)\n",
    "        else:\n",
    "            return np.sin(2*np.pi*f*t + phase)\n",
    "    else:\n",
    "        return print('[ERROR] Smps/2 > f')"
   ]
  },
  {
   "cell_type": "markdown",
   "metadata": {},
   "source": [
    "## Ruido\n",
    "Temos que \\\\[\\gamma = SNR = E_b/N_0\\\\] ou \\\\[\\gamma = SNR = E_s/N_0\\\\]\n",
    "\n",
    "Temos também que \\\\[P = L \\times \\frac{1}{N} \\sum_{i=0}^{N-1}|s_i|^2\\\\]\n",
    "\n",
    "Portanto,\n",
    "\n",
    "\\\\[N_0 = P/\\gamma\\\\]"
   ]
  },
  {
   "cell_type": "code",
   "execution_count": 4,
   "metadata": {},
   "outputs": [],
   "source": [
    "def channel_awgn(sig, EbN0dB, samps_per_sym):\n",
    "    gamma = 10**(EbN0dB/10)\n",
    "    P=samps_per_sym*sum(abs(sig)**2)/len(sig) \n",
    "    N0=P/gamma \n",
    "    \n",
    "    if np.isrealobj(sig):\n",
    "        noise = np.sqrt(N0/2)*np.random.standard_normal(sig.shape)\n",
    "    else:\n",
    "        noise = np.sqrt(N0/2)*(np.random.standard_normal(sig.shape)+1j*np.random.standard_normal(sig.shape))\n",
    "\n",
    "    rx_sig = sig + noise\n",
    "    return rx_sig\n",
    "    "
   ]
  },
  {
   "cell_type": "code",
   "execution_count": 5,
   "metadata": {},
   "outputs": [],
   "source": [
    "def Q_function(x):\n",
    "    return 0.5*erfc(x/np.sqrt(2))"
   ]
  },
  {
   "cell_type": "code",
   "execution_count": 6,
   "metadata": {},
   "outputs": [],
   "source": [
    "def constellation_psk(M):\n",
    "    if math.log(M,2).is_integer():\n",
    "        m = np.arange(0,M)\n",
    "        I = 1/np.sqrt(2)*np.cos(m/M*2*np.pi)\n",
    "        Q = 1/np.sqrt(2)*np.sin(m/M*2*np.pi)\n",
    "        constellation = I + 1j*Q\n",
    "        #constellation = np.vstack((constellation, m))\n",
    "        return constellation"
   ]
  },
  {
   "cell_type": "code",
   "execution_count": 7,
   "metadata": {},
   "outputs": [],
   "source": [
    "def psk_mod_baseband(sym_array, M):\n",
    "    if math.log(M,2).is_integer():\n",
    "        constellation = constellation_psk(M)\n",
    "        remap_sym_cons = constellation[sym_array]\n",
    "    else:\n",
    "        return print('[ERROR] M-PSK is not possible')\n",
    "    \n",
    "    return remap_sym_cons"
   ]
  },
  {
   "cell_type": "code",
   "execution_count": 8,
   "metadata": {},
   "outputs": [],
   "source": [
    "def resampling(sym_array, samps_per_sym):\n",
    "    return np.repeat(sym_array,samps_per_sym)"
   ]
  },
  {
   "cell_type": "code",
   "execution_count": 9,
   "metadata": {},
   "outputs": [],
   "source": [
    "def matched_filter_RC(alpha, Ts, Fs, size):\n",
    "    filter_rc = commpy.filters.rcosfilter(int((Ts/Fs)*size), alpha, Ts/2, 1/Fs)[1]\n",
    "    return filter_rc"
   ]
  },
  {
   "cell_type": "code",
   "execution_count": 10,
   "metadata": {},
   "outputs": [],
   "source": [
    "def apply_mf(filter_rc, sym_array, Ts, Fs, size):\n",
    "    sym_array_mf = np.convolve(sym_array, filter_rc, 'full')[int((Ts/Fs)*size/2):int((Ts/Fs)*size/2)+len(sym_array)]*2/(Ts/Fs) \n",
    "    return sym_array_mf"
   ]
  },
  {
   "cell_type": "code",
   "execution_count": 11,
   "metadata": {},
   "outputs": [],
   "source": [
    "def plot_constellation(sig, M):\n",
    "    constellation = constellation_psk(M)\n",
    "    plt.scatter(sig.real, sig.imag)\n",
    "    plt.scatter(constellation.real, constellation.imag)"
   ]
  },
  {
   "cell_type": "code",
   "execution_count": 12,
   "metadata": {},
   "outputs": [],
   "source": [
    "def butter_lowpass(cutoff, fs, order=5):\n",
    "    nyq = 0.5 * fs\n",
    "    normal_cutoff = cutoff / nyq\n",
    "    sos = butter(order, cutoff, btype='low', fs=fs, analog=False, output = 'sos')\n",
    "    return sos\n",
    "\n",
    "def butter_lowpass_filter(data, cutoff, fs, order=5):\n",
    "    sos = butter_lowpass(cutoff, fs, order=order)\n",
    "    y = signal.sosfilt(sos, data)\n",
    "    return y"
   ]
  },
  {
   "cell_type": "code",
   "execution_count": 13,
   "metadata": {},
   "outputs": [],
   "source": [
    "def sampling(sig, samps_per_sym):\n",
    "    values = sig[np.arange(samps_per_sym/2,len(sig),np.round((samps_per_sym))).astype(int)]\n",
    "    return values"
   ]
  },
  {
   "cell_type": "code",
   "execution_count": 14,
   "metadata": {},
   "outputs": [],
   "source": [
    "def decision(constellation, rx):\n",
    "    rx_sym = np.array([])\n",
    "    for symb in rx:\n",
    "        dif = np.absolute(symb-constellation)\n",
    "        smallest_difference_index = dif.argmin()\n",
    "        rx_sym = np.append(rx_sym, smallest_difference_index)\n",
    "        \n",
    "    return rx_sym.real\n",
    "\n",
    "        "
   ]
  },
  {
   "cell_type": "code",
   "execution_count": 15,
   "metadata": {},
   "outputs": [],
   "source": [
    "def SER_calc(sym_rx, sym_tx, constellation):\n",
    "    symb_error = np.sum(decision(constellation, sym_rx) != sym_tx)/len(sym_tx)\n",
    "    return symb_error"
   ]
  },
  {
   "cell_type": "markdown",
   "metadata": {},
   "source": [
    "## Sincronização"
   ]
  },
  {
   "cell_type": "code",
   "execution_count": 16,
   "metadata": {},
   "outputs": [],
   "source": [
    "def sincSymbol(symbol_base, rx_symbol):\n",
    "    corr = signal.correlate(rx_symbol, symbol_base, mode='full')\n",
    "    delay = 1-len(symbol_base) + np.where(corr == max(corr))[0][0]\n",
    "    print(\"Delay of {} samples\".format(delay))\n",
    "    return rx_symbol[delay:]"
   ]
  },
  {
   "cell_type": "code",
   "execution_count": 17,
   "metadata": {},
   "outputs": [
    {
     "name": "stdout",
     "output_type": "stream",
     "text": [
      "Delay of 5 samples\n"
     ]
    },
    {
     "data": {
      "image/png": "[encoded data removed]",
      "text/plain": [
       "<Figure size 432x288 with 1 Axes>"
      ]
     },
     "metadata": {
      "needs_background": "light"
     },
     "output_type": "display_data"
    }
   ],
   "source": [
    "nSym = 5\n",
    "samps_per_sym = 15\n",
    "M = 2\n",
    "syns = [0,1,1,1,0,0,0]\n",
    "tx_sym = np.repeat(syns,samps_per_sym)\n",
    "tx_noise = tx_sym + np.random.rand(len(tx_sym))/5\n",
    "\n",
    "rx_sym_delay = numpy.concatenate([np.zeros(5),tx_noise])\n",
    "\n",
    "sincSymbol(tx_sym, rx_sym_delay)\n",
    "\n",
    "plt.plot(tx_sym, label = \"TX\")\n",
    "plt.plot(rx_sym_delay, label = \"RX\")\n",
    "plt.legend()\n",
    "plt.show()\n"
   ]
  },
  {
   "cell_type": "markdown",
   "metadata": {},
   "source": [
    "O que deve ser feito:\n",
    "- Enviar uma série de bits ja conhecidos\n",
    "- Com essa séria, demodular, verificar o sincronismo do clock e fazer a amostragem\n",
    "- Teremos o I e Q amostrados\n",
    "- Comparar com o I e Q originais\n",
    "- Assim é possível saber o desvio de fase"
   ]
  },
  {
   "cell_type": "markdown",
   "metadata": {},
   "source": [
    "## Curvas Teóricas"
   ]
  },
  {
   "cell_type": "code",
   "execution_count": 88,
   "metadata": {},
   "outputs": [
    {
     "data": {
      "image/png": "[encoded data removed]",
      "text/plain": [
       "<Figure size 432x576 with 1 Axes>"
      ]
     },
     "metadata": {
      "needs_background": "light"
     },
     "output_type": "display_data"
    }
   ],
   "source": [
    "from matplotlib.ticker import (MultipleLocator, FormatStrFormatter,\n",
    "                               AutoMinorLocator)\n",
    "\n",
    "Ms = [2, 4, 8, 16]\n",
    "colors = {2: 'b', 4: 'r', 8: 'g', 16 : 'black'}\n",
    "SNR_inicial = -4\n",
    "SNR_final = 20\n",
    "step = 4\n",
    "EbN0dBs2 = np.arange(start=SNR_inicial,stop = SNR_final, step = 0.1)\n",
    "\n",
    "\n",
    "fig, ax = plt.subplots(figsize=(6,8))\n",
    "for M in Ms:\n",
    "\n",
    "    BER_theory = 2*Q_function(np.sin(np.pi/M)*np.sqrt(10**(EbN0dBs2/10)*2))\n",
    "    ax.semilogy(EbN0dBs2, BER_theory, label = str(M))\n",
    "    ax.set_ylim([float(1e-5), float(1)])\n",
    "    ax.set_xlim([-5, 25])\n",
    "    ax.xaxis.grid(True, which='minor')\n",
    "    ax.xaxis.set_major_locator(MultipleLocator(2))\n",
    "    ax.xaxis.set_major_formatter(FormatStrFormatter('%d'))\n",
    "\n",
    "    ax.legend()"
   ]
  },
  {
   "cell_type": "markdown",
   "metadata": {},
   "source": [
    "# Modulação em banda base\n",
    "O sistema em banda base é composto pelos seguintes blocos\n",
    "<img src=\"./sistema.svg\">\n",
    "* Geração dos simbolos: *sym_gen*\n",
    "* Modulação em banda base: *psk_mod_baseband*\n",
    "* Resampling: *resampling*\n",
    "* Filtro casado: *matched_filter_RC* e *apply_filter*\n",
    "* Ruido: *channel_awgn*\n",
    "* Amostragem: *sampling*\n",
    "* Decisor: *decision*\n",
    "\n",
    "É possível também calcular a SER utilizando a função *SER_calcu*"
   ]
  },
  {
   "cell_type": "markdown",
   "metadata": {},
   "source": [
    "## Banda Base"
   ]
  },
  {
   "cell_type": "code",
   "execution_count": 68,
   "metadata": {},
   "outputs": [
    {
     "data": {
      "image/png": "[encoded data removed]",
      "text/plain": [
       "<Figure size 432x288 with 1 Axes>"
      ]
     },
     "metadata": {
      "needs_background": "light"
     },
     "output_type": "display_data"
    }
   ],
   "source": [
    "data_rate = 1000 #Symb/s\n",
    "Ts = 1/data_rate\n",
    "sample_rate = 20000\n",
    "Fs = 1/sample_rate\n",
    "samps_per_sym = int(Ts/Fs)\n",
    "size = 3\n",
    "alpha = 0.5\n",
    "numSym = 3000\n",
    "M = 8\n",
    "EbNo = 20\n",
    "\n",
    "#Generate data\n",
    "data = sym_gen(numSym, M)\n",
    "\n",
    "#Modulating the data\n",
    "syms = psk_mod_baseband(data, M)\n",
    "\n",
    "#Resampling the modulated data\n",
    "syms_re = resampling(syms, samps_per_sym)\n",
    "\n",
    "#Matched filter\n",
    "filter_rc = matched_filter_RC(alpha, Ts, Fs, size)\n",
    "wave = apply_mf(filter_rc, syms_re, Ts, Fs, size)\n",
    "\n",
    "#Applying the noise\n",
    "tx = channel_awgn(wave, EbNo, samps_per_sym)\n",
    "\n",
    "#Receiving the data with Matched filter\n",
    "rx = apply_mf(filter_rc, tx, Ts, Fs, size)\n",
    "\n",
    "#Sampling the data\n",
    "rx_sym = sampling(rx, samps_per_sym)[0:len(data)]\n",
    "\n",
    "#Plotting the received data constelation\n",
    "plot_constellation(rx_sym, M)"
   ]
  },
  {
   "cell_type": "code",
   "execution_count": 69,
   "metadata": {},
   "outputs": [
    {
     "data": {
      "image/png": "[encoded data removed]",
      "text/plain": [
       "<Figure size 432x288 with 1 Axes>"
      ]
     },
     "metadata": {
      "needs_background": "light"
     },
     "output_type": "display_data"
    }
   ],
   "source": [
    "plt.magnitude_spectrum(wave, Fs=sample_rate);"
   ]
  },
  {
   "cell_type": "code",
   "execution_count": 70,
   "metadata": {},
   "outputs": [
    {
     "data": {
      "image/png": "[encoded data removed]",
      "text/plain": [
       "<Figure size 432x288 with 1 Axes>"
      ]
     },
     "metadata": {
      "needs_background": "light"
     },
     "output_type": "display_data"
    }
   ],
   "source": [
    "plt.magnitude_spectrum(rx, Fs=sample_rate);"
   ]
  },
  {
   "cell_type": "markdown",
   "metadata": {},
   "source": [
    "# Modulação em banda passante"
   ]
  },
  {
   "cell_type": "code",
   "execution_count": 57,
   "metadata": {},
   "outputs": [
    {
     "data": {
      "text/plain": [
       "0.0"
      ]
     },
     "execution_count": 57,
     "metadata": {},
     "output_type": "execute_result"
    },
    {
     "data": {
      "image/png": "[encoded data removed]",
      "text/plain": [
       "<Figure size 432x288 with 1 Axes>"
      ]
     },
     "metadata": {
      "needs_background": "light"
     },
     "output_type": "display_data"
    }
   ],
   "source": [
    "M = 8\n",
    "data_rate = 5000 #symb/s\n",
    "Ts = 1/data_rate\n",
    "sample_rate = 60000\n",
    "Fs = 1/sample_rate\n",
    "samps_per_sym = Ts/Fs\n",
    "size = 3\n",
    "alpha = 0.5\n",
    "numSym = 3000\n",
    "EbNo = 30\n",
    "f = 20000\n",
    "\n",
    "#Generate data\n",
    "data = sym_gen(numSym, M)\n",
    "\n",
    "#Modulating the data\n",
    "syms = psk_mod_baseband(data, M)\n",
    "\n",
    "#Resampling the modulated data\n",
    "syms_re = resampling(syms, samps_per_sym)\n",
    "\n",
    "#Matched filter\n",
    "filter_rc = matched_filter_RC(alpha, Ts, Fs, size)\n",
    "wave = apply_mf(filter_rc, syms_re, Ts, Fs, size)\n",
    "\n",
    "cos_wave = base_wave(sample_rate, f, (1/data_rate)*numSym, type_wave = 'cos', phase = 0)\n",
    "sin_wave = base_wave(sample_rate, f, (1/data_rate)*numSym, type_wave = 'sin', phase = 0)\n",
    "\n",
    "wave = wave.real*cos_wave-wave.imag*sin_wave\n",
    "\n",
    "#Applying the noise\n",
    "tx = channel_awgn(wave, EbNo, samps_per_sym)\n",
    "\n",
    "bits_rx_cos = tx*cos_wave\n",
    "\n",
    "bits_rx_sin = tx*-sin_wave\n",
    "\n",
    "\n",
    "#Receiving the data with Matched filter\n",
    "Q = apply_mf(filter_rc, bits_rx_cos, Ts, Fs, size)*2\n",
    "I = apply_mf(filter_rc, bits_rx_sin, Ts, Fs, size)*2\n",
    "\n",
    "rx = Q+1j*I\n",
    "\n",
    "#Sampling the data\n",
    "rx_sym = sampling(rx, samps_per_sym)[0:len(data)]\n",
    "\n",
    "#Plotting the received data constelation\n",
    "plot_constellation(rx_sym, M)\n",
    "\n",
    "#SER (Symbol error rate)\n",
    "SER_calc(rx_sym, data, constellation_psk(M))"
   ]
  },
  {
   "cell_type": "code",
   "execution_count": 58,
   "metadata": {},
   "outputs": [
    {
     "data": {
      "image/png": "[encoded data removed]",
      "text/plain": [
       "<Figure size 432x288 with 1 Axes>"
      ]
     },
     "metadata": {
      "needs_background": "light"
     },
     "output_type": "display_data"
    }
   ],
   "source": [
    "plt.magnitude_spectrum(wave, Fs=sample_rate);\n",
    "plt.magnitude_spectrum(rx, Fs=sample_rate);\n",
    "plt.xlim(-30000,30000);"
   ]
  },
  {
   "cell_type": "markdown",
   "metadata": {},
   "source": [
    "## Simulação SER"
   ]
  },
  {
   "cell_type": "code",
   "execution_count": null,
   "metadata": {},
   "outputs": [],
   "source": [
    "Ms = [2, 4, 8, 16]\n",
    "colors = {2: 'b', 4: 'r', 8: 'g', 16 : 'black'}\n",
    "SNR_inicial = -4\n",
    "SNR_final = 20\n",
    "step = 4\n",
    "EbN0dBs = np.arange(start=SNR_inicial,stop = SNR_final, step = step) # Eb/N0 range in dB for simulation\n",
    "EbN0dBs2 = np.arange(start=SNR_inicial,stop = SNR_final, step = 0.1)\n",
    "fig = plt.subplots(figsize=(8,8))\n",
    "data_rate = 1000 #Symb/s\n",
    "Ts = 1/data_rate\n",
    "sample_rate = 20000\n",
    "Fs = 1/sample_rate\n",
    "samps_per_sym = int(Ts/Fs)\n",
    "size = 3\n",
    "alpha = 0.5\n",
    "numSym = 100000\n",
    "f = 5000\n",
    "\n",
    "\n",
    "for M in Ms:\n",
    "   \n",
    "    data = sym_gen(numSym, M)\n",
    "\n",
    "    #Modulating the data\n",
    "    syms = psk_mod_baseband(data, M)\n",
    "\n",
    "    #Resampling the modulated data\n",
    "    syms_re = resampling(syms, samps_per_sym)\n",
    "\n",
    "    #Matched filter\n",
    "    filter_rc = matched_filter_RC(alpha, Ts, Fs, size)\n",
    "    wave = apply_mf(filter_rc, syms_re, Ts, Fs, size)\n",
    "\n",
    "    cos_wave = base_wave(sample_rate, f, (1/data_rate)*numSym, type_wave = 'cos', phase = 0)\n",
    "    sin_wave = base_wave(sample_rate, f, (1/data_rate)*numSym, type_wave = 'sin', phase = 0)\n",
    "\n",
    "    wave = wave.real*cos_wave-wave.imag*sin_wave\n",
    "\n",
    "    \n",
    "    SER_values = np.zeros(len(EbN0dBs)) # simulated Bit error rates\n",
    "    \n",
    "\n",
    "    for j,EbN0dB in enumerate(EbN0dBs):\n",
    "        clear_output(wait=True)\n",
    "        print('{}-PSK'.format(M))\n",
    "        print('SNR = {}'.format(EbN0dB))\n",
    "        \n",
    "        #Applying the noise\n",
    "        tx = channel_awgn(wave, EbN0dB, samps_per_sym)\n",
    "\n",
    "        bits_rx_cos = tx*cos_wave\n",
    "\n",
    "        bits_rx_sin = tx*-sin_wave\n",
    "\n",
    "\n",
    "        #Receiving the data with Matched filter\n",
    "        Q = apply_mf(filter_rc, bits_rx_cos, Ts, Fs, size)*2\n",
    "        I = apply_mf(filter_rc, bits_rx_sin, Ts, Fs, size)*2\n",
    "\n",
    "        rx = Q+1j*I\n",
    "\n",
    "        #Sampling the data\n",
    "        rx_sym = sampling(rx, samps_per_sym)[0:len(data)]\n",
    "        SER = SER_calc(rx_sym, data, constellation_psk(M))\n",
    "        \n",
    "        SER_values[j] = SER\n",
    "\n",
    "\n",
    "    BER_theory = 2*Q_function(np.sin(np.pi/M)*np.sqrt(10**(EbN0dBs2/10)*2))\n",
    "\n",
    "    plt.semilogy(EbN0dBs,SER_values,color=colors[M],marker='o',linestyle='')\n",
    "    plt.semilogy(EbN0dBs2,BER_theory,color=colors[M], marker='',linestyle='-',label=str(M)+'-PSK')\n",
    "    plt.xlim(-5,24);\n",
    "    plt.ylim(1e-5,1)\n",
    "    plt.grid(True);\n",
    "    plt.xlabel('$E_s/N_0$')\n",
    "    plt.legend()\n"
   ]
  }
 ],
 "metadata": {
  "kernelspec": {
   "display_name": "Python 3",
   "language": "python",
   "name": "python3"
  },
  "language_info": {
   "codemirror_mode": {
    "name": "ipython",
    "version": 3
   },
   "file_extension": ".py",
   "mimetype": "text/x-python",
   "name": "python",
   "nbconvert_exporter": "python",
   "pygments_lexer": "ipython3",
   "version": "3.9.2"
  }
 },
 "nbformat": 4,
 "nbformat_minor": 4
}
